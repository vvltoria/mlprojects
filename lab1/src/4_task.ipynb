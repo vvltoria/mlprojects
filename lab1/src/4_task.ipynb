{
 "cells": [
  {
   "cell_type": "code",
   "execution_count": 1,
   "id": "189f2b1b-c1f5-4808-8afa-40dad3844870",
   "metadata": {},
   "outputs": [
    {
     "name": "stdout",
     "output_type": "stream",
     "text": [
      "--2025-09-07 11:59:53--  https://raw.githubusercontent.com/maryiad/ml-example/main/data/Zapasy_produkcii_2016_2017.csv\n",
      "Resolving raw.githubusercontent.com (raw.githubusercontent.com)... 185.199.110.133, 185.199.111.133, 185.199.108.133, ...\n",
      "Connecting to raw.githubusercontent.com (raw.githubusercontent.com)|185.199.110.133|:443... connected.\n",
      "HTTP request sent, awaiting response... 200 OK\n",
      "Length: 3572 (3,5K) [text/plain]\n",
      "Saving to: ‘Zapasy_produkcii_2016_2017.csv’\n",
      "\n",
      "Zapasy_produkcii_20 100%[===================>]   3,49K  --.-KB/s    in 0,01s   \n",
      "\n",
      "2025-09-07 11:59:54 (237 KB/s) - ‘Zapasy_produkcii_2016_2017.csv’ saved [3572/3572]\n",
      "\n"
     ]
    }
   ],
   "source": [
    "!wget https://raw.githubusercontent.com/maryiad/ml-example/main/data/Zapasy_produkcii_2016_2017.csv"
   ]
  },
  {
   "cell_type": "code",
   "execution_count": 2,
   "id": "ac3f249c-526c-4305-b459-9af50aea9ba4",
   "metadata": {},
   "outputs": [
    {
     "name": "stdout",
     "output_type": "stream",
     "text": [
      "--2025-09-07 12:02:16--  https://raw.githubusercontent.com/maryiad/ml-example/main/data/Zapasy_produkcii_2016_2017.csv\n",
      "Resolving raw.githubusercontent.com (raw.githubusercontent.com)... 185.199.111.133, 185.199.108.133, 185.199.109.133, ...\n",
      "Connecting to raw.githubusercontent.com (raw.githubusercontent.com)|185.199.111.133|:443... connected.\n",
      "HTTP request sent, awaiting response... 200 OK\n",
      "Length: 3572 (3,5K) [text/plain]\n",
      "Saving to: ‘data.csv’\n",
      "\n",
      "data.csv            100%[===================>]   3,49K  --.-KB/s    in 0s      \n",
      "\n",
      "2025-09-07 12:02:17 (19,9 MB/s) - ‘data.csv’ saved [3572/3572]\n",
      "\n"
     ]
    }
   ],
   "source": [
    "!wget -O data.csv --no-check-certificate https://raw.githubusercontent.com/maryiad/ml-example/main/data/Zapasy_produkcii_2016_2017.csv"
   ]
  },
  {
   "cell_type": "markdown",
   "id": "4b8aa5da",
   "metadata": {},
   "source": [
    "### Визуализация данных"
   ]
  },
  {
   "cell_type": "code",
   "execution_count": 3,
   "id": "56f84a6b",
   "metadata": {},
   "outputs": [],
   "source": [
    "import pandas as pd"
   ]
  },
  {
   "cell_type": "code",
   "execution_count": 7,
   "id": "56422f9e",
   "metadata": {},
   "outputs": [],
   "source": [
    "dataF = pd.read_csv('Zapasy_produkcii_2016_2017.csv')"
   ]
  },
  {
   "cell_type": "code",
   "execution_count": 8,
   "id": "63bedc3f",
   "metadata": {},
   "outputs": [
    {
     "data": {
      "text/html": [
       "<div>\n",
       "<style scoped>\n",
       "    .dataframe tbody tr th:only-of-type {\n",
       "        vertical-align: middle;\n",
       "    }\n",
       "\n",
       "    .dataframe tbody tr th {\n",
       "        vertical-align: top;\n",
       "    }\n",
       "\n",
       "    .dataframe thead th {\n",
       "        text-align: right;\n",
       "    }\n",
       "</style>\n",
       "<table border=\"1\" class=\"dataframe\">\n",
       "  <thead>\n",
       "    <tr style=\"text-align: right;\">\n",
       "      <th></th>\n",
       "      <th>territory</th>\n",
       "      <th>economyBranches</th>\n",
       "      <th>2016</th>\n",
       "      <th>2017</th>\n",
       "    </tr>\n",
       "  </thead>\n",
       "  <tbody>\n",
       "    <tr>\n",
       "      <th>0</th>\n",
       "      <td>Брестская область</td>\n",
       "      <td>Промышленность</td>\n",
       "      <td>3659,7</td>\n",
       "      <td>3850,5</td>\n",
       "    </tr>\n",
       "    <tr>\n",
       "      <th>1</th>\n",
       "      <td>Витебская область</td>\n",
       "      <td>Промышленность</td>\n",
       "      <td>494,9</td>\n",
       "      <td>509,1</td>\n",
       "    </tr>\n",
       "    <tr>\n",
       "      <th>2</th>\n",
       "      <td>Гомельская область</td>\n",
       "      <td>Промышленность</td>\n",
       "      <td>327,8</td>\n",
       "      <td>365,5</td>\n",
       "    </tr>\n",
       "    <tr>\n",
       "      <th>3</th>\n",
       "      <td>Гродненская область</td>\n",
       "      <td>Промышленность</td>\n",
       "      <td>311,2</td>\n",
       "      <td>350,1</td>\n",
       "    </tr>\n",
       "    <tr>\n",
       "      <th>4</th>\n",
       "      <td>г. Минск</td>\n",
       "      <td>Промышленность</td>\n",
       "      <td>455,5</td>\n",
       "      <td>521,2</td>\n",
       "    </tr>\n",
       "  </tbody>\n",
       "</table>\n",
       "</div>"
      ],
      "text/plain": [
       "             territory economyBranches    2016    2017\n",
       "0    Брестская область  Промышленность  3659,7  3850,5\n",
       "1    Витебская область  Промышленность   494,9   509,1\n",
       "2   Гомельская область  Промышленность   327,8   365,5\n",
       "3  Гродненская область  Промышленность   311,2   350,1\n",
       "4             г. Минск  Промышленность   455,5   521,2"
      ]
     },
     "execution_count": 8,
     "metadata": {},
     "output_type": "execute_result"
    }
   ],
   "source": [
    "dataF.head()"
   ]
  },
  {
   "cell_type": "markdown",
   "id": "76e2c34a",
   "metadata": {},
   "source": [
    "## curl и визуализация"
   ]
  },
  {
   "cell_type": "code",
   "execution_count": 11,
   "id": "40946914",
   "metadata": {},
   "outputs": [
    {
     "name": "stdout",
     "output_type": "stream",
     "text": [
      "  % Total    % Received % Xferd  Average Speed   Time    Time     Time  Current\n",
      "                                 Dload  Upload   Total   Spent    Left  Speed\n",
      "100  2128  100  2128    0     0   4459      0 --:--:-- --:--:-- --:--:--  4451\n"
     ]
    }
   ],
   "source": [
    "!curl -o samplefile.csv https://raw.githubusercontent.com/maryiad/ml-example/main/data/Zapasy_produkcii_2000_2009.csv"
   ]
  },
  {
   "cell_type": "code",
   "execution_count": 12,
   "id": "e9c593b8",
   "metadata": {},
   "outputs": [
    {
     "data": {
      "text/html": [
       "<div>\n",
       "<style scoped>\n",
       "    .dataframe tbody tr th:only-of-type {\n",
       "        vertical-align: middle;\n",
       "    }\n",
       "\n",
       "    .dataframe tbody tr th {\n",
       "        vertical-align: top;\n",
       "    }\n",
       "\n",
       "    .dataframe thead th {\n",
       "        text-align: right;\n",
       "    }\n",
       "</style>\n",
       "<table border=\"1\" class=\"dataframe\">\n",
       "  <thead>\n",
       "    <tr style=\"text-align: right;\">\n",
       "      <th></th>\n",
       "      <th>territory</th>\n",
       "      <th>economyBranches</th>\n",
       "      <th>2000</th>\n",
       "      <th>2001</th>\n",
       "      <th>2002</th>\n",
       "      <th>2003</th>\n",
       "      <th>2004</th>\n",
       "      <th>2005</th>\n",
       "      <th>2006</th>\n",
       "      <th>2007</th>\n",
       "      <th>2008</th>\n",
       "      <th>2009</th>\n",
       "    </tr>\n",
       "  </thead>\n",
       "  <tbody>\n",
       "    <tr>\n",
       "      <th>0</th>\n",
       "      <td>Брестская область</td>\n",
       "      <td>Промышленность</td>\n",
       "      <td>45096</td>\n",
       "      <td>79871</td>\n",
       "      <td>110418</td>\n",
       "      <td>172616</td>\n",
       "      <td>213923</td>\n",
       "      <td>232622</td>\n",
       "      <td>271186</td>\n",
       "      <td>386450</td>\n",
       "      <td>515204</td>\n",
       "      <td>570303</td>\n",
       "    </tr>\n",
       "    <tr>\n",
       "      <th>1</th>\n",
       "      <td>Витебская область</td>\n",
       "      <td>Промышленность</td>\n",
       "      <td>44753</td>\n",
       "      <td>79845</td>\n",
       "      <td>122775</td>\n",
       "      <td>143626</td>\n",
       "      <td>182935</td>\n",
       "      <td>248013</td>\n",
       "      <td>244190</td>\n",
       "      <td>298380</td>\n",
       "      <td>485347</td>\n",
       "      <td>404500</td>\n",
       "    </tr>\n",
       "    <tr>\n",
       "      <th>2</th>\n",
       "      <td>Гомельская область</td>\n",
       "      <td>Промышленность</td>\n",
       "      <td>53889</td>\n",
       "      <td>109230</td>\n",
       "      <td>138368</td>\n",
       "      <td>158192</td>\n",
       "      <td>216528</td>\n",
       "      <td>327949</td>\n",
       "      <td>357803</td>\n",
       "      <td>431234</td>\n",
       "      <td>563776</td>\n",
       "      <td>538487</td>\n",
       "    </tr>\n",
       "    <tr>\n",
       "      <th>3</th>\n",
       "      <td>Гродненская область</td>\n",
       "      <td>Промышленность</td>\n",
       "      <td>34040</td>\n",
       "      <td>65748</td>\n",
       "      <td>90248</td>\n",
       "      <td>98507</td>\n",
       "      <td>139022</td>\n",
       "      <td>166376</td>\n",
       "      <td>245326</td>\n",
       "      <td>335841</td>\n",
       "      <td>515213</td>\n",
       "      <td>576451</td>\n",
       "    </tr>\n",
       "    <tr>\n",
       "      <th>4</th>\n",
       "      <td>г. Минск</td>\n",
       "      <td>Промышленность</td>\n",
       "      <td>118765</td>\n",
       "      <td>223875</td>\n",
       "      <td>286673</td>\n",
       "      <td>356509</td>\n",
       "      <td>472380</td>\n",
       "      <td>532759</td>\n",
       "      <td>621840</td>\n",
       "      <td>739471</td>\n",
       "      <td>1300925</td>\n",
       "      <td>1714369</td>\n",
       "    </tr>\n",
       "  </tbody>\n",
       "</table>\n",
       "</div>"
      ],
      "text/plain": [
       "             territory economyBranches    2000    2001    2002    2003  \\\n",
       "0    Брестская область  Промышленность   45096   79871  110418  172616   \n",
       "1    Витебская область  Промышленность   44753   79845  122775  143626   \n",
       "2   Гомельская область  Промышленность   53889  109230  138368  158192   \n",
       "3  Гродненская область  Промышленность   34040   65748   90248   98507   \n",
       "4             г. Минск  Промышленность  118765  223875  286673  356509   \n",
       "\n",
       "     2004    2005    2006    2007     2008     2009  \n",
       "0  213923  232622  271186  386450   515204   570303  \n",
       "1  182935  248013  244190  298380   485347   404500  \n",
       "2  216528  327949  357803  431234   563776   538487  \n",
       "3  139022  166376  245326  335841   515213   576451  \n",
       "4  472380  532759  621840  739471  1300925  1714369  "
      ]
     },
     "execution_count": 12,
     "metadata": {},
     "output_type": "execute_result"
    }
   ],
   "source": [
    "dataTh = pd.read_csv(\"samplefile.csv\")\n",
    "\n",
    "dataTh.head()"
   ]
  },
  {
   "cell_type": "markdown",
   "id": "e01254d0",
   "metadata": {},
   "source": [
    "## image"
   ]
  },
  {
   "cell_type": "code",
   "execution_count": 15,
   "id": "a4b679e8",
   "metadata": {},
   "outputs": [
    {
     "name": "stdout",
     "output_type": "stream",
     "text": [
      "zsh:1: bad pattern: [Копия\n"
     ]
    }
   ],
   "source": [
    "![Копия экрана](https://github.com/maryiad/ml-example/blob/main/img/open-data-img.png?raw=true)"
   ]
  },
  {
   "cell_type": "code",
   "execution_count": 14,
   "id": "6b3a4e9b",
   "metadata": {},
   "outputs": [
    {
     "data": {
      "text/html": [
       "<img src=\"https://raw.githubusercontent.com/maryiad/ml-example/main/img/open-data-img.png\"/>"
      ],
      "text/plain": [
       "<IPython.core.display.Image object>"
      ]
     },
     "execution_count": 14,
     "metadata": {},
     "output_type": "execute_result"
    }
   ],
   "source": [
    "from IPython.display import Image\n",
    "Image(url='https://raw.githubusercontent.com/maryiad/ml-example/main/img/open-data-img.png')"
   ]
  },
  {
   "cell_type": "code",
   "execution_count": null,
   "id": "aee92745",
   "metadata": {},
   "outputs": [],
   "source": []
  }
 ],
 "metadata": {
  "kernelspec": {
   "display_name": "ml-labs",
   "language": "python",
   "name": "python3"
  },
  "language_info": {
   "codemirror_mode": {
    "name": "ipython",
    "version": 3
   },
   "file_extension": ".py",
   "mimetype": "text/x-python",
   "name": "python",
   "nbconvert_exporter": "python",
   "pygments_lexer": "ipython3",
   "version": "3.11.13"
  }
 },
 "nbformat": 4,
 "nbformat_minor": 5
}
