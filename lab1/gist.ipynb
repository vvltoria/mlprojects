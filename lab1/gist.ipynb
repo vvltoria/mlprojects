{
 "cells": [
  {
   "cell_type": "markdown",
   "id": "b38647dd-bd2c-4aab-b4d3-b666dd0fe0f7",
   "metadata": {},
   "source": [
    "# Лабораторная работая 1\n",
    "## задание 3"
   ]
  },
  {
   "cell_type": "code",
   "execution_count": 1,
   "id": "6c6f733e-123f-4219-abbb-5eda89adf6da",
   "metadata": {},
   "outputs": [],
   "source": [
    "from PIL import Image\n",
    "import requests"
   ]
  },
  {
   "cell_type": "code",
   "execution_count": 2,
   "id": "7dfa4cff-154e-44ff-8903-1bf43a638bc4",
   "metadata": {},
   "outputs": [],
   "source": [
    "image_url = \"https://upload.wikimedia.org/wikipedia/en/c/cd/Anaconda_Logo.png\"\n",
    "im = Image.open(requests.get(image_url, stream=True).raw)\n",
    "im"
   ]
  },
  {
   "cell_type": "code",
   "execution_count": null,
   "id": "0f5ddcc5-2f77-44ac-ba89-9b18270af687",
   "metadata": {},
   "outputs": [],
   "source": []
  },
  {
   "cell_type": "code",
   "execution_count": null,
   "id": "d209e9f0-fad1-45d4-b6c0-6e83fb5c4753",
   "metadata": {},
   "outputs": [],
   "source": []
  }
 ],
 "metadata": {
  "kernelspec": {
   "display_name": "Python [conda env:ml-labs]",
   "language": "python",
   "name": "conda-env-ml-labs-py"
  },
  "language_info": {
   "codemirror_mode": {
    "name": "ipython",
    "version": 3
   },
   "file_extension": ".py",
   "mimetype": "text/x-python",
   "name": "python",
   "nbconvert_exporter": "python",
   "pygments_lexer": "ipython3",
   "version": "3.11.13"
  }
 },
 "nbformat": 4,
 "nbformat_minor": 5
}
